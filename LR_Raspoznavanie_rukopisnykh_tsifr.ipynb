{
  "cells": [
    {
      "cell_type": "markdown",
      "id": "e1b70a84",
      "metadata": {
        "id": "e1b70a84"
      },
      "source": [
        "### Задание: Реализовать полносвязную нейронную сеть для распознавания рукописных цифр."
      ]
    },
    {
      "cell_type": "code",
      "execution_count": null,
      "id": "a5e273f8",
      "metadata": {
        "id": "a5e273f8"
      },
      "outputs": [],
      "source": [
        "# импорт библиотек\n",
        "import numpy as np\n",
        "import matplotlib.pyplot as plt\n",
        "from tensorflow.keras.datasets import mnist         # импорт mnist из набора датасетов\n",
        "from tensorflow import keras\n",
        "from tensorflow.keras.layers import Dense, Flatten"
      ]
    },
    {
      "cell_type": "code",
      "execution_count": 15,
      "id": "1ae45424",
      "metadata": {
        "id": "1ae45424"
      },
      "outputs": [],
      "source": [
        "#загрузка данных\n",
        "(x_train, y_train), (x_test, y_test) = mnist.load_data()"
      ]
    },
    {
      "cell_type": "code",
      "execution_count": null,
      "id": "qX5QmPJyozMt",
      "metadata": {
        "id": "qX5QmPJyozMt"
      },
      "outputs": [],
      "source": [
        "x_train.shape, x_test.shape"
      ]
    },
    {
      "cell_type": "markdown",
      "id": "65b1b5ab",
      "metadata": {
        "id": "65b1b5ab"
      },
      "source": [
        "### 1. Выполнить стандартизацию входных данных."
      ]
    },
    {
      "cell_type": "code",
      "execution_count": null,
      "id": "ba0def35",
      "metadata": {
        "id": "ba0def35"
      },
      "outputs": [],
      "source": [
        "import numpy as np\n",
        "from tensorflow.keras.datasets import mnist\n",
        "\n",
        "(x_train, y_train), (x_test, y_test) = mnist.load_data()\n",
        "\n",
        "x_train = x_train.astype('float32') / 255\n",
        "x_test = x_test.astype('float32') / 255\n",
        "\n",
        "# Этот код выведет минимальное и максимальное значения в обучающем наборе данных, подтверждая, что данные были корректно масштабированы.\n",
        "print('Min:', np.min(x_train), 'Max:', np.max(x_train))"
      ]
    },
    {
      "cell_type": "markdown",
      "id": "05adafed",
      "metadata": {
        "id": "05adafed"
      },
      "source": [
        "### 2. С помощью функции keras.utils.to_categorical преобразовать целевую переменную в обучающей и тестовой выборках в категориальные данные."
      ]
    },
    {
      "cell_type": "code",
      "execution_count": null,
      "id": "c7412ccc",
      "metadata": {
        "id": "c7412ccc"
      },
      "outputs": [],
      "source": [
        "from tensorflow.keras.utils import to_categorical\n",
        "\n",
        "y_train_cat = to_categorical(y_train, 10)\n",
        "y_test_cat = to_categorical(y_test, 10)\n",
        "\n",
        "# Этот код выведет первые пять строк y_train_cat и y_test_cat, показывая, как были закодированы метки классов.\n",
        "print(y_train_cat[:5])\n",
        "print(y_test_cat[:5])"
      ]
    },
    {
      "cell_type": "markdown",
      "id": "2a6b7f15",
      "metadata": {
        "id": "2a6b7f15"
      },
      "source": [
        "### 3. Вывести первые 25 изображений из обучающей выборки."
      ]
    },
    {
      "cell_type": "code",
      "execution_count": null,
      "id": "62e276ce",
      "metadata": {
        "id": "62e276ce"
      },
      "outputs": [],
      "source": [
        "import matplotlib.pyplot as plt\n",
        "\n",
        "plt.figure(figsize=(10,10))\n",
        "for i in range(25):\n",
        "    plt.subplot(5,5,i+1)\n",
        "    plt.xticks([])\n",
        "    plt.yticks([])\n",
        "    plt.grid(False)\n",
        "    plt.imshow(x_train[i], cmap=plt.cm.binary)\n",
        "    plt.xlabel(y_train[i])\n",
        "plt.show()"
      ]
    },
    {
      "cell_type": "markdown",
      "id": "7ccec3b0",
      "metadata": {
        "id": "7ccec3b0"
      },
      "source": [
        "### 4. Построить модель нейронной сети из 3 слоев (1 слой - Flatten; 2 слой - Dense, количество нейронов - 128, функция активации - Relu; 3 слой - Dense, количество нейронов - 10, функция активации - Softmax."
      ]
    },
    {
      "cell_type": "code",
      "execution_count": null,
      "id": "be0e0af5",
      "metadata": {
        "id": "be0e0af5"
      },
      "outputs": [],
      "source": [
        "from tensorflow.keras.models import Sequential\n",
        "from tensorflow.keras.layers import Dense, Flatten\n",
        "\n",
        "model = Sequential([\n",
        "    Flatten(input_shape=(28, 28)),\n",
        "    Dense(128, activation='relu'),\n",
        "    Dense(10, activation='softmax')\n",
        "])\n",
        "model.summary()"
      ]
    },
    {
      "cell_type": "markdown",
      "id": "fe74bae6",
      "metadata": {
        "id": "fe74bae6"
      },
      "source": [
        "### 5. С помощью функции summary() выевсти структуру модели нейронной сети."
      ]
    },
    {
      "cell_type": "code",
      "execution_count": null,
      "id": "50fd75bd",
      "metadata": {
        "id": "50fd75bd"
      },
      "outputs": [],
      "source": [
        "model.summary()"
      ]
    },
    {
      "cell_type": "markdown",
      "id": "c73cb7e6",
      "metadata": {
        "id": "c73cb7e6"
      },
      "source": [
        "### 6. Скомпилировать модель нейронной сети (оптимизатор - adam, функция потерь - categorical_crossentropy, метрика - accuracy)."
      ]
    },
    {
      "cell_type": "code",
      "execution_count": 36,
      "id": "b02092cf",
      "metadata": {
        "id": "b02092cf"
      },
      "outputs": [],
      "source": [
        "model.compile(optimizer='adam',\n",
        "              loss='categorical_crossentropy',\n",
        "              metrics=['accuracy'])"
      ]
    },
    {
      "cell_type": "markdown",
      "id": "1bd45543",
      "metadata": {
        "id": "1bd45543"
      },
      "source": [
        "### 7. Запустить процесс обучения нейронной сети на 5 эпохах, 80% - обучающая выборка, 20% - валидационная выборка, batch_size=32."
      ]
    },
    {
      "cell_type": "code",
      "execution_count": 38,
      "id": "ff3cba9f",
      "metadata": {
        "colab": {
          "base_uri": "https://localhost:8080/"
        },
        "id": "ff3cba9f",
        "outputId": "19145f19-8334-4226-c624-c275ea376b3e"
      },
      "outputs": [
        {
          "output_type": "stream",
          "name": "stdout",
          "text": [
            "Epoch 1/5\n",
            "1500/1500 [==============================] - 4s 3ms/step - loss: 0.0981 - accuracy: 0.9709 - val_loss: 0.1076 - val_accuracy: 0.9678\n",
            "Epoch 2/5\n",
            "1500/1500 [==============================] - 5s 3ms/step - loss: 0.0715 - accuracy: 0.9779 - val_loss: 0.1031 - val_accuracy: 0.9693\n",
            "Epoch 3/5\n",
            "1500/1500 [==============================] - 4s 3ms/step - loss: 0.0547 - accuracy: 0.9841 - val_loss: 0.0831 - val_accuracy: 0.9742\n",
            "Epoch 4/5\n",
            "1500/1500 [==============================] - 4s 3ms/step - loss: 0.0405 - accuracy: 0.9877 - val_loss: 0.0957 - val_accuracy: 0.9727\n",
            "Epoch 5/5\n",
            "1500/1500 [==============================] - 5s 3ms/step - loss: 0.0322 - accuracy: 0.9904 - val_loss: 0.0824 - val_accuracy: 0.9772\n"
          ]
        },
        {
          "output_type": "execute_result",
          "data": {
            "text/plain": [
              "<keras.src.callbacks.History at 0x795527c99810>"
            ]
          },
          "metadata": {},
          "execution_count": 38
        }
      ],
      "source": [
        "model.fit(x_train, y_train_cat, epochs=5, validation_split=0.2, batch_size=32)"
      ]
    },
    {
      "cell_type": "markdown",
      "id": "6aee784a",
      "metadata": {
        "id": "6aee784a"
      },
      "source": [
        "### 8. С помощью метода evaluate провести оценку модели на тестовой выборке."
      ]
    },
    {
      "cell_type": "code",
      "execution_count": null,
      "id": "ad538800",
      "metadata": {
        "id": "ad538800"
      },
      "outputs": [],
      "source": [
        "test_loss, test_acc = model.evaluate(x_test, y_test_cat)\n",
        "print('Test accuracy:', test_acc)"
      ]
    },
    {
      "cell_type": "code",
      "execution_count": null,
      "id": "yPuYBtatzaLu",
      "metadata": {
        "id": "yPuYBtatzaLu"
      },
      "outputs": [],
      "source": [
        "x_test[0].shape"
      ]
    },
    {
      "cell_type": "code",
      "execution_count": 11,
      "id": "_uR6Ve57ztJO",
      "metadata": {
        "id": "_uR6Ve57ztJO"
      },
      "outputs": [],
      "source": [
        "w = np.expand_dims(x_test[0], axis=0)"
      ]
    },
    {
      "cell_type": "code",
      "execution_count": null,
      "id": "eO8EXz7Gzzql",
      "metadata": {
        "id": "eO8EXz7Gzzql"
      },
      "outputs": [],
      "source": [
        "w.shape"
      ]
    },
    {
      "cell_type": "markdown",
      "id": "74a237c5",
      "metadata": {
        "id": "74a237c5"
      },
      "source": [
        "### 9. Осуществить проверку распознавания цифр с помощью модели на тестовой выборке."
      ]
    },
    {
      "cell_type": "code",
      "execution_count": null,
      "id": "1d70c7ba",
      "metadata": {
        "id": "1d70c7ba"
      },
      "outputs": [],
      "source": [
        "predictions = model.predict(x_test)"
      ]
    },
    {
      "cell_type": "markdown",
      "id": "3931ee03",
      "metadata": {
        "id": "3931ee03"
      },
      "source": [
        "### 10. Выявить случаи, когда модель делает неверные предсказания."
      ]
    },
    {
      "cell_type": "code",
      "execution_count": null,
      "id": "1e93c0bc",
      "metadata": {
        "id": "1e93c0bc"
      },
      "outputs": [],
      "source": [
        "import numpy as np\n",
        "\n",
        "# Получаем предсказания модели\n",
        "predictions = model.predict(x_test)\n",
        "predicted_classes = np.argmax(predictions, axis=1)\n",
        "\n",
        "# Находим индексы, где предсказанные классы не совпадают с фактическими\n",
        "incorrect_indices = np.where(predicted_classes != y_test)[0]"
      ]
    },
    {
      "cell_type": "markdown",
      "id": "c409b12c",
      "metadata": {
        "id": "c409b12c"
      },
      "source": [
        "### 11. Для неверных предсказаний модели вывести изображение цифры из тестовой выборки и значение, предсказанное моделью нейронной сети."
      ]
    },
    {
      "cell_type": "code",
      "execution_count": null,
      "id": "5a1738ee",
      "metadata": {
        "id": "5a1738ee"
      },
      "outputs": [],
      "source": [
        "# Вывод первых 25 неверных предсказаний\n",
        "plt.figure(figsize=(15,15))\n",
        "for i, incorrect in enumerate(incorrect_indices[:25]):\n",
        "    plt.subplot(5,5,i+1)\n",
        "    plt.imshow(x_test[incorrect], cmap='binary', interpolation='none')\n",
        "    plt.title(\"Predicted: {}, Truth: {}\".format(predicted_classes[incorrect], y_test[incorrect]))\n",
        "    plt.xticks([])\n",
        "    plt.yticks([])\n",
        "plt.show()"
      ]
    }
  ],
  "metadata": {
    "colab": {
      "provenance": []
    },
    "kernelspec": {
      "display_name": "Python 3 (ipykernel)",
      "language": "python",
      "name": "python3"
    },
    "language_info": {
      "codemirror_mode": {
        "name": "ipython",
        "version": 3
      },
      "file_extension": ".py",
      "mimetype": "text/x-python",
      "name": "python",
      "nbconvert_exporter": "python",
      "pygments_lexer": "ipython3",
      "version": "3.9.13"
    }
  },
  "nbformat": 4,
  "nbformat_minor": 5
}